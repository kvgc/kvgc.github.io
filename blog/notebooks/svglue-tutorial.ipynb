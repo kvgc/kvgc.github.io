{
 "cells": [
  {
   "cell_type": "code",
   "execution_count": 1,
   "id": "943a7f69",
   "metadata": {},
   "outputs": [],
   "source": [
    "from base64 import b64encode\n",
    "from uuid import uuid4\n",
    "\n",
    "from lxml import etree\n",
    "\n",
    "SVG_NS = 'http://www.w3.org/2000/svg'\n",
    "RECT_TAG = '{http://www.w3.org/2000/svg}rect'\n",
    "TSPAN_TAG = '{http://www.w3.org/2000/svg}tspan'\n",
    "FLOWPARA_TAG = '{http://www.w3.org/2000/svg}flowPara'\n",
    "IMAGE_TAG = '{http://www.w3.org/2000/svg}image'\n",
    "USE_TAG = '{http://www.w3.org/2000/svg}use'\n",
    "HREF_ATTR = '{http://www.w3.org/1999/xlink}href'\n",
    "\n",
    "\n",
    "class TemplateParseError(Exception):\n",
    "    pass\n",
    "\n",
    "\n",
    "class Template(object):\n",
    "    @classmethod\n",
    "    def load(cls, src=None, file=None):\n",
    "        if not (src == None) ^ (file == None):\n",
    "            raise RuntimeError('Must specify exactly one of src or '\n",
    "                               'file argument')\n",
    "\n",
    "        if src:\n",
    "            return cls(etree.fromstring(src))\n",
    "\n",
    "        return cls(etree.parse(file))\n",
    "\n",
    "    def __init__(self, doc):\n",
    "        self._doc = doc\n",
    "        self._rect_subs = {}\n",
    "        self._tspan_subs = {}\n",
    "        self._flowpara_subs = {}\n",
    "        self._defs = None\n",
    "\n",
    "        for elem in self._doc.xpath('//*'):\n",
    "            tid = elem.get('template-id', None)\n",
    "            if not tid:\n",
    "                continue\n",
    "\n",
    "            # FIXME: use own namespace?\n",
    "            del elem.attrib['template-id']\n",
    "\n",
    "            if elem.tag == RECT_TAG:\n",
    "                self._rect_subs[tid] = elem\n",
    "            elif elem.tag == TSPAN_TAG:\n",
    "                self._tspan_subs[tid] = elem\n",
    "            elif elem.tag == FLOWPARA_TAG:\n",
    "                self._flowpara_subs[tid] = elem\n",
    "            else:\n",
    "                raise TemplateParseError(\n",
    "                    'Can only replace <rect> and <tspan> elements, found %s '\n",
    "                    'instead' % (elem.tag, ))\n",
    "\n",
    "        defs = self._doc.xpath('/svg:svg/svg:defs', namespaces={'svg': SVG_NS})\n",
    "\n",
    "        if defs:\n",
    "            self._defs = defs[0]\n",
    "        else:\n",
    "            self._defs = self._doc.getroot().insert(0,\n",
    "                                                    etree.Element(\n",
    "                                                        '{%s}defs' % SVG_NS))\n",
    "\n",
    "    def set_text(self, tid, text):\n",
    "        self._tspan_subs[tid].text = text\n",
    "\n",
    "    def set_flowtext(self, tid, text):\n",
    "        self._flowpara_subs[tid].text = text\n",
    "\n",
    "    def set_image(self, tid, src=None, file=None, mimetype=None):\n",
    "        if not (src == None) ^ (file == None):\n",
    "            raise RuntimeError('Must specify exactly one of src or '\n",
    "                               'file argument')\n",
    "\n",
    "        if not mimetype and (not file or hasattr(file, 'read')):\n",
    "            raise RuntimeError('Must specify mimetype when not linking ',\n",
    "                               'an image')\n",
    "\n",
    "        elem = self._rect_subs[tid]\n",
    "        elem.tag = IMAGE_TAG\n",
    "\n",
    "        ALLOWED_ATTRS = ('x', 'y', 'width', 'height', 'style')\n",
    "        for attr in elem.attrib.keys():\n",
    "            if not attr in ALLOWED_ATTRS:\n",
    "                del elem.attrib[attr]\n",
    "\n",
    "        elem.set('preserveAspectRatio', 'none')\n",
    "\n",
    "        # embed?\n",
    "        if not mimetype:\n",
    "            elem.set(HREF_ATTR, file)\n",
    "        else:\n",
    "            if not src:\n",
    "                if not hasattr(file, 'read'):\n",
    "                    file = open(file, 'rb')\n",
    "                src = file.read()\n",
    "\n",
    "            encoded = b64encode(src).decode('ascii')\n",
    "            elem.set(HREF_ATTR, 'data:%s;base64,%s' % (mimetype, encoded))\n",
    "\n",
    "    def set_svg(self, tid, src=None, file=None):\n",
    "        if not (src == None) ^ (file == None):\n",
    "            raise RuntimeError('Must specify exactly one of src or '\n",
    "                               'file argument')\n",
    "\n",
    "        if src:\n",
    "            doc = etree.fromstring(str(src))\n",
    "        else:\n",
    "            doc = etree.parse(file)\n",
    "\n",
    "        doc_id = str(uuid4())\n",
    "        doc.getroot().set('id', doc_id)\n",
    "        self._defs.append(doc.getroot())\n",
    "\n",
    "        elem = self._rect_subs[tid]\n",
    "        elem.tag = USE_TAG\n",
    "\n",
    "        ALLOWED_ATTRS = ('x', 'y', 'width', 'height', 'style')\n",
    "        for attr in elem.attrib.keys():\n",
    "            if not attr in ALLOWED_ATTRS:\n",
    "                del elem.attrib[attr]\n",
    "\n",
    "        elem.set(HREF_ATTR, '#' + doc_id)\n",
    "\n",
    "    def __str__(self):\n",
    "        return str(etree.tostring(\n",
    "            self._doc, encoding='utf8', method='xml').decode('utf8'))\n",
    "    \n",
    "\n",
    "load = Template.load\n"
   ]
  },
  {
   "cell_type": "code",
   "execution_count": 14,
   "id": "92d8c6ee",
   "metadata": {},
   "outputs": [],
   "source": [
    "# load the template from a file\n",
    "tpl = Template.load(file='sample-tpl.svg')\n"
   ]
  },
  {
   "cell_type": "code",
   "execution_count": 15,
   "id": "500d29a2",
   "metadata": {},
   "outputs": [],
   "source": [
    "# replace some text\n",
    "tpl.set_text('sample-text', u'This was replaced.')\n"
   ]
  },
  {
   "cell_type": "code",
   "execution_count": 20,
   "id": "aa70b935",
   "metadata": {},
   "outputs": [],
   "source": [
    "# replace the pink box with 'hello.png'. if you do not specify the mimetype,\n",
    "# the image will get linked instead of embedded\n",
    "tpl.set_image('pink-box', file='image (14).png', mimetype='image/png')\n"
   ]
  },
  {
   "cell_type": "code",
   "execution_count": 21,
   "id": "a73927ab",
   "metadata": {},
   "outputs": [],
   "source": [
    "# to render the template, cast it to a string. this also allows passing it\n",
    "# as a parameter to set_svg() of another template\n",
    "src = str(tpl)"
   ]
  },
  {
   "cell_type": "code",
   "execution_count": 22,
   "id": "107ad12e",
   "metadata": {},
   "outputs": [],
   "source": [
    "f= open(\"test-svglue.svg\",'w+')\n",
    "f.write(src)\n",
    "f.close()"
   ]
  },
  {
   "cell_type": "code",
   "execution_count": 23,
   "id": "fdf20e2d",
   "metadata": {},
   "outputs": [
    {
     "name": "stdout",
     "output_type": "stream",
     "text": [
      "Gtk-\u001b[1;32mMessage\u001b[0m: \u001b[34m20:58:27.226\u001b[0m: Failed to load module \"canberra-gtk-module\"\r\n"
     ]
    }
   ],
   "source": [
    "!inkscape test-svglue.svg --export-pdf=test-svglue.pdf"
   ]
  },
  {
   "cell_type": "code",
   "execution_count": null,
   "id": "3baba7a1",
   "metadata": {},
   "outputs": [],
   "source": []
  },
  {
   "cell_type": "code",
   "execution_count": null,
   "id": "832ae418",
   "metadata": {},
   "outputs": [],
   "source": []
  }
 ],
 "metadata": {
  "kernelspec": {
   "display_name": "Python 3 (ipykernel)",
   "language": "python",
   "name": "python3"
  },
  "language_info": {
   "codemirror_mode": {
    "name": "ipython",
    "version": 3
   },
   "file_extension": ".py",
   "mimetype": "text/x-python",
   "name": "python",
   "nbconvert_exporter": "python",
   "pygments_lexer": "ipython3",
   "version": "3.8.15"
  }
 },
 "nbformat": 4,
 "nbformat_minor": 5
}
